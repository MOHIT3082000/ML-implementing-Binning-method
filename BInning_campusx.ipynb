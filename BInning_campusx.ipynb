{
 "cells": [
  {
   "cell_type": "code",
   "execution_count": 1,
   "id": "bb83801f-498b-4c6d-9b29-9dab58ff38f4",
   "metadata": {},
   "outputs": [],
   "source": [
    "import numpy as np\n",
    "import pandas as pd"
   ]
  },
  {
   "cell_type": "code",
   "execution_count": 4,
   "id": "99044af9-54e3-43c5-8f07-3a3d1feaee47",
   "metadata": {},
   "outputs": [],
   "source": [
    "import matplotlib.pyplot as plt\n",
    "from sklearn.model_selection import train_test_split\n",
    "from sklearn.tree import DecisionTreeClassifier\n",
    "from sklearn.metrics import accuracy_score\n",
    "from sklearn.model_selection import cross_val_score\n",
    "from sklearn.preprocessing import KBinsDiscretizer\n",
    "from sklearn.compose import ColumnTransformer"
   ]
  },
  {
   "cell_type": "code",
   "execution_count": 7,
   "id": "bc9a56c4-0f04-4214-b01d-4825b3eaecab",
   "metadata": {},
   "outputs": [],
   "source": [
    "df = pd.read_csv(r\"C:\\Users\\HP-PC\\Desktop\\Python data analytics\\train data set 1.csv\",usecols=['Age','Fare','Survived'])"
   ]
  },
  {
   "cell_type": "code",
   "execution_count": 8,
   "id": "d7f2c36b-7a63-42e4-9294-38872c713641",
   "metadata": {},
   "outputs": [
    {
     "data": {
      "text/html": [
       "<div>\n",
       "<style scoped>\n",
       "    .dataframe tbody tr th:only-of-type {\n",
       "        vertical-align: middle;\n",
       "    }\n",
       "\n",
       "    .dataframe tbody tr th {\n",
       "        vertical-align: top;\n",
       "    }\n",
       "\n",
       "    .dataframe thead th {\n",
       "        text-align: right;\n",
       "    }\n",
       "</style>\n",
       "<table border=\"1\" class=\"dataframe\">\n",
       "  <thead>\n",
       "    <tr style=\"text-align: right;\">\n",
       "      <th></th>\n",
       "      <th>Survived</th>\n",
       "      <th>Age</th>\n",
       "      <th>Fare</th>\n",
       "    </tr>\n",
       "  </thead>\n",
       "  <tbody>\n",
       "    <tr>\n",
       "      <th>0</th>\n",
       "      <td>0</td>\n",
       "      <td>22.0</td>\n",
       "      <td>7.2500</td>\n",
       "    </tr>\n",
       "    <tr>\n",
       "      <th>1</th>\n",
       "      <td>1</td>\n",
       "      <td>38.0</td>\n",
       "      <td>71.2833</td>\n",
       "    </tr>\n",
       "    <tr>\n",
       "      <th>2</th>\n",
       "      <td>1</td>\n",
       "      <td>26.0</td>\n",
       "      <td>7.9250</td>\n",
       "    </tr>\n",
       "    <tr>\n",
       "      <th>3</th>\n",
       "      <td>1</td>\n",
       "      <td>35.0</td>\n",
       "      <td>53.1000</td>\n",
       "    </tr>\n",
       "    <tr>\n",
       "      <th>4</th>\n",
       "      <td>0</td>\n",
       "      <td>35.0</td>\n",
       "      <td>8.0500</td>\n",
       "    </tr>\n",
       "  </tbody>\n",
       "</table>\n",
       "</div>"
      ],
      "text/plain": [
       "   Survived   Age     Fare\n",
       "0         0  22.0   7.2500\n",
       "1         1  38.0  71.2833\n",
       "2         1  26.0   7.9250\n",
       "3         1  35.0  53.1000\n",
       "4         0  35.0   8.0500"
      ]
     },
     "execution_count": 8,
     "metadata": {},
     "output_type": "execute_result"
    }
   ],
   "source": [
    "df.head()"
   ]
  },
  {
   "cell_type": "code",
   "execution_count": 9,
   "id": "6681a304-1c39-4ba9-ac3c-f9f31421e854",
   "metadata": {},
   "outputs": [],
   "source": [
    "df.dropna(inplace=True)"
   ]
  },
  {
   "cell_type": "code",
   "execution_count": 11,
   "id": "d4d6811b-81c5-4965-b860-690c16561004",
   "metadata": {},
   "outputs": [],
   "source": [
    "x = df.iloc[:,1:]\n",
    "y = df.iloc[:,0]"
   ]
  },
  {
   "cell_type": "code",
   "execution_count": 12,
   "id": "31b16027-f967-49c3-a93f-08119fde4467",
   "metadata": {},
   "outputs": [],
   "source": [
    "x_train,x_test,y_train,y_test = train_test_split(x,y,test_size=0.2,random_state = 42)"
   ]
  },
  {
   "cell_type": "code",
   "execution_count": 13,
   "id": "7d5f93ff-21cd-41c4-abec-7390a31515d4",
   "metadata": {},
   "outputs": [],
   "source": [
    "clf = DecisionTreeClassifier()"
   ]
  },
  {
   "cell_type": "code",
   "execution_count": 14,
   "id": "dc4c5c2d-393a-4d21-9f9a-06c968efda2c",
   "metadata": {},
   "outputs": [],
   "source": [
    "clf.fit(x_train,y_train)\n",
    "y_pred = clf.predict(x_test)"
   ]
  },
  {
   "cell_type": "code",
   "execution_count": 15,
   "id": "182182b6-0855-4bb8-99d6-fb20d811e2ef",
   "metadata": {},
   "outputs": [
    {
     "data": {
      "text/plain": [
       "0.6293706293706294"
      ]
     },
     "execution_count": 15,
     "metadata": {},
     "output_type": "execute_result"
    }
   ],
   "source": [
    "accuracy_score(y_test,y_pred)"
   ]
  },
  {
   "cell_type": "code",
   "execution_count": 17,
   "id": "349ba968-6de5-4186-941b-73bfa5d64f3f",
   "metadata": {},
   "outputs": [
    {
     "data": {
      "text/plain": [
       "0.6303599374021909"
      ]
     },
     "execution_count": 17,
     "metadata": {},
     "output_type": "execute_result"
    }
   ],
   "source": [
    "np.mean(cross_val_score(clf,x,y,cv=10,scoring='accuracy'))"
   ]
  },
  {
   "cell_type": "code",
   "execution_count": 21,
   "id": "e7a9d8e1-5e31-47ae-8c07-7597fef8a4a9",
   "metadata": {},
   "outputs": [],
   "source": [
    "kbin_age = KBinsDiscretizer(n_bins=10,encode='ordinal',strategy='quantile')\n",
    "kbin_fare = KBinsDiscretizer(n_bins=10,encode='ordinal',strategy='quantile')"
   ]
  },
  {
   "cell_type": "code",
   "execution_count": 22,
   "id": "28b6f090-03d5-4583-a4d4-466576405385",
   "metadata": {},
   "outputs": [],
   "source": [
    "trf = ColumnTransformer([\n",
    "    ('first',kbin_age,[0]),\n",
    "    ('second',kbin_fare,[1])\n",
    "])"
   ]
  },
  {
   "cell_type": "code",
   "execution_count": 23,
   "id": "53d930d9-57cd-409c-acb0-8ae77a4103e7",
   "metadata": {},
   "outputs": [],
   "source": [
    "x_train_trf = trf.fit_transform(x_train)\n",
    "x_test_trf = trf.transform(x_test)"
   ]
  },
  {
   "cell_type": "code",
   "execution_count": 24,
   "id": "f5703733-6e03-4171-82e1-fb6d97f3578a",
   "metadata": {},
   "outputs": [
    {
     "data": {
      "text/plain": [
       "array([10])"
      ]
     },
     "execution_count": 24,
     "metadata": {},
     "output_type": "execute_result"
    }
   ],
   "source": [
    "trf.named_transformers_['first'].n_bins_"
   ]
  },
  {
   "cell_type": "code",
   "execution_count": 25,
   "id": "09372555-03d6-4cd8-a310-cf43d3c63fe2",
   "metadata": {},
   "outputs": [
    {
     "data": {
      "text/plain": [
       "array([array([  0.    ,   7.75  ,   7.8958,   9.225 ,  13.    ,  15.75  ,\n",
       "               26.    ,  29.125 ,  51.4792,  82.1708, 512.3292])         ],\n",
       "      dtype=object)"
      ]
     },
     "execution_count": 25,
     "metadata": {},
     "output_type": "execute_result"
    }
   ],
   "source": [
    "trf.named_transformers_['second'].bin_edges_"
   ]
  },
  {
   "cell_type": "code",
   "execution_count": 26,
   "id": "443822d0-82b9-428c-8e3f-0673e57d25c1",
   "metadata": {},
   "outputs": [
    {
     "data": {
      "text/plain": [
       "array([array([ 0.42, 14.  , 19.  , 22.  , 25.  , 28.5 , 32.  , 36.  , 42.  ,\n",
       "              50.  , 80.  ])                                                ],\n",
       "      dtype=object)"
      ]
     },
     "execution_count": 26,
     "metadata": {},
     "output_type": "execute_result"
    }
   ],
   "source": [
    "trf.named_transformers_['first'].bin_edges_"
   ]
  },
  {
   "cell_type": "code",
   "execution_count": 27,
   "id": "3da5dd66-9f5a-40af-8cf2-c85ad792dfe4",
   "metadata": {},
   "outputs": [],
   "source": [
    "output = pd.DataFrame({\n",
    "    'age':x_train['Age'],\n",
    "    'age_trf':x_train_trf[:,0],\n",
    "    'fare':x_train['Fare'],\n",
    "    'fare_trf':x_train_trf[:,1]\n",
    "})"
   ]
  },
  {
   "cell_type": "code",
   "execution_count": 30,
   "id": "54bef582-4bc1-4c83-9b8f-44c3d5194450",
   "metadata": {},
   "outputs": [],
   "source": [
    "output['age_labels'] = pd.cut(x=x_train['Age'],bins=trf.named_transformers_['first'].bin_edges_[0].tolist())\n",
    "output['fare_labels'] = pd.cut(x=x_train['Fare'],bins=trf.named_transformers_['second'].bin_edges_[0].tolist())"
   ]
  },
  {
   "cell_type": "code",
   "execution_count": 32,
   "id": "c2d5bb26-ad7e-464a-be4b-01ddcf6351e1",
   "metadata": {},
   "outputs": [
    {
     "data": {
      "text/html": [
       "<div>\n",
       "<style scoped>\n",
       "    .dataframe tbody tr th:only-of-type {\n",
       "        vertical-align: middle;\n",
       "    }\n",
       "\n",
       "    .dataframe tbody tr th {\n",
       "        vertical-align: top;\n",
       "    }\n",
       "\n",
       "    .dataframe thead th {\n",
       "        text-align: right;\n",
       "    }\n",
       "</style>\n",
       "<table border=\"1\" class=\"dataframe\">\n",
       "  <thead>\n",
       "    <tr style=\"text-align: right;\">\n",
       "      <th></th>\n",
       "      <th>age</th>\n",
       "      <th>age_trf</th>\n",
       "      <th>fare</th>\n",
       "      <th>fare_trf</th>\n",
       "      <th>age_labels</th>\n",
       "      <th>fare_labels</th>\n",
       "    </tr>\n",
       "  </thead>\n",
       "  <tbody>\n",
       "    <tr>\n",
       "      <th>233</th>\n",
       "      <td>5.0</td>\n",
       "      <td>0.0</td>\n",
       "      <td>31.3875</td>\n",
       "      <td>7.0</td>\n",
       "      <td>(0.42, 14.0]</td>\n",
       "      <td>(29.125, 51.479]</td>\n",
       "    </tr>\n",
       "    <tr>\n",
       "      <th>871</th>\n",
       "      <td>47.0</td>\n",
       "      <td>8.0</td>\n",
       "      <td>52.5542</td>\n",
       "      <td>8.0</td>\n",
       "      <td>(42.0, 50.0]</td>\n",
       "      <td>(51.479, 82.171]</td>\n",
       "    </tr>\n",
       "    <tr>\n",
       "      <th>325</th>\n",
       "      <td>36.0</td>\n",
       "      <td>7.0</td>\n",
       "      <td>135.6333</td>\n",
       "      <td>9.0</td>\n",
       "      <td>(32.0, 36.0]</td>\n",
       "      <td>(82.171, 512.329]</td>\n",
       "    </tr>\n",
       "    <tr>\n",
       "      <th>638</th>\n",
       "      <td>41.0</td>\n",
       "      <td>7.0</td>\n",
       "      <td>39.6875</td>\n",
       "      <td>7.0</td>\n",
       "      <td>(36.0, 42.0]</td>\n",
       "      <td>(29.125, 51.479]</td>\n",
       "    </tr>\n",
       "    <tr>\n",
       "      <th>521</th>\n",
       "      <td>22.0</td>\n",
       "      <td>3.0</td>\n",
       "      <td>7.8958</td>\n",
       "      <td>2.0</td>\n",
       "      <td>(19.0, 22.0]</td>\n",
       "      <td>(7.75, 7.896]</td>\n",
       "    </tr>\n",
       "  </tbody>\n",
       "</table>\n",
       "</div>"
      ],
      "text/plain": [
       "      age  age_trf      fare  fare_trf    age_labels        fare_labels\n",
       "233   5.0      0.0   31.3875       7.0  (0.42, 14.0]   (29.125, 51.479]\n",
       "871  47.0      8.0   52.5542       8.0  (42.0, 50.0]   (51.479, 82.171]\n",
       "325  36.0      7.0  135.6333       9.0  (32.0, 36.0]  (82.171, 512.329]\n",
       "638  41.0      7.0   39.6875       7.0  (36.0, 42.0]   (29.125, 51.479]\n",
       "521  22.0      3.0    7.8958       2.0  (19.0, 22.0]      (7.75, 7.896]"
      ]
     },
     "execution_count": 32,
     "metadata": {},
     "output_type": "execute_result"
    }
   ],
   "source": [
    "output.sample(5)"
   ]
  },
  {
   "cell_type": "code",
   "execution_count": 33,
   "id": "1d8398de-13be-4249-a833-f67802b2376b",
   "metadata": {},
   "outputs": [],
   "source": [
    "clf = DecisionTreeClassifier()\n",
    "clf.fit(x_train_trf,y_train)\n",
    "y_pred2 = clf.predict(x_test_trf)"
   ]
  },
  {
   "cell_type": "code",
   "execution_count": 34,
   "id": "79b6e5e2-83b4-411f-a46a-e220745f656b",
   "metadata": {},
   "outputs": [
    {
     "data": {
      "text/plain": [
       "0.6223776223776224"
      ]
     },
     "execution_count": 34,
     "metadata": {},
     "output_type": "execute_result"
    }
   ],
   "source": [
    "accuracy_score(y_test,y_pred2)"
   ]
  },
  {
   "cell_type": "code",
   "execution_count": 36,
   "id": "5c6b6c3a-34d9-427b-b4b3-9f9a431e70f9",
   "metadata": {},
   "outputs": [
    {
     "data": {
      "text/plain": [
       "0.6274647887323943"
      ]
     },
     "execution_count": 36,
     "metadata": {},
     "output_type": "execute_result"
    }
   ],
   "source": [
    "x_trf = trf.fit_transform(x)\n",
    "np.mean(cross_val_score(clf,x,y,cv=10,scoring='accuracy'))"
   ]
  },
  {
   "cell_type": "code",
   "execution_count": 38,
   "id": "bedc9bb9-a2a1-47d5-bf33-da2a0db4ea1d",
   "metadata": {},
   "outputs": [],
   "source": [
    "def discretize(bins,strategy):\n",
    "    kbin_age = KBinsDiscretizer(n_bins=bins,encode = 'ordinal',strategy=strategy)\n",
    "    kbin_fare = KBinsDiscretizer(n_bins = bins,encode = 'ordinal',strategy=strategy)\n",
    "    trf = ColumnTransformer([\n",
    "        ('first',kbin_age,[0]),\n",
    "        ('second',kbin_fare,[1])\n",
    "    ])\n",
    "    x_trf = trf.fit_transform(x)\n",
    "    print(np.mean(cross_val_score(DecisionTreeClassifier(),x,y,cv=10,scoring='accuracy')))\n",
    "    plt.figure(figsize=(14,4))\n",
    "    plt.subplot(121)\n",
    "    plt.hist(x['Age'])\n",
    "    plt.title(\"Before\")\n",
    "    plt.subplot(122)\n",
    "    plt.hist(x_trf[:,0],color='red')\n",
    "    plt.title(\"After\")\n",
    "    plt.show()"
   ]
  },
  {
   "cell_type": "code",
   "execution_count": 39,
   "id": "557b1615-b859-4de5-8fd3-70124ec73a05",
   "metadata": {},
   "outputs": [
    {
     "name": "stdout",
     "output_type": "stream",
     "text": [
      "0.6247261345852895\n"
     ]
    },
    {
     "data": {
      "image/png": "[encoded data removed]",
      "text/plain": [
       "<Figure size 1400x400 with 2 Axes>"
      ]
     },
     "metadata": {},
     "output_type": "display_data"
    }
   ],
   "source": [
    "discretize(10,'quantile')"
   ]
  },
  {
   "cell_type": "code",
   "execution_count": null,
   "id": "2dfff2e0-51b6-4eb6-93c0-25e681400af5",
   "metadata": {},
   "outputs": [],
   "source": []
  },
  {
   "cell_type": "code",
   "execution_count": null,
   "id": "e75eb7bc-cd79-4c20-b880-b93fd5bb1879",
   "metadata": {},
   "outputs": [],
   "source": []
  },
  {
   "cell_type": "code",
   "execution_count": null,
   "id": "c465be29-38af-4e4b-8e13-67b606647b93",
   "metadata": {},
   "outputs": [],
   "source": []
  },
  {
   "cell_type": "code",
   "execution_count": null,
   "id": "1872662c-9147-4ae8-9dfe-1f57b222e94b",
   "metadata": {},
   "outputs": [],
   "source": []
  },
  {
   "cell_type": "code",
   "execution_count": null,
   "id": "8fbb20da-17ca-4934-9b3c-de0d1c3ec1d2",
   "metadata": {},
   "outputs": [],
   "source": []
  },
  {
   "cell_type": "code",
   "execution_count": null,
   "id": "6f8b0c69-21a3-4746-b8f1-2a54f4a3d9d0",
   "metadata": {},
   "outputs": [],
   "source": []
  },
  {
   "cell_type": "code",
   "execution_count": null,
   "id": "ead17ffe-c6ba-4308-9d0c-f6c9f666e3ae",
   "metadata": {},
   "outputs": [],
   "source": []
  },
  {
   "cell_type": "code",
   "execution_count": null,
   "id": "be9c1f1b-ff04-455f-8851-04ca2ace5bec",
   "metadata": {},
   "outputs": [],
   "source": []
  },
  {
   "cell_type": "code",
   "execution_count": null,
   "id": "280accd0-67ff-4b60-89f8-3cc419684b61",
   "metadata": {},
   "outputs": [],
   "source": []
  },
  {
   "cell_type": "code",
   "execution_count": null,
   "id": "8cfa77b3-127e-4991-9972-7fae5b826e20",
   "metadata": {},
   "outputs": [],
   "source": []
  },
  {
   "cell_type": "code",
   "execution_count": null,
   "id": "c6b56cbf-b15e-4c90-868b-bc0d07ca9d09",
   "metadata": {},
   "outputs": [],
   "source": []
  },
  {
   "cell_type": "code",
   "execution_count": null,
   "id": "4d9929ac-436f-40e5-865c-b2d8fda2660c",
   "metadata": {},
   "outputs": [],
   "source": []
  },
  {
   "cell_type": "code",
   "execution_count": null,
   "id": "8b0761cf-c9c1-4c1f-a840-f473d75168b1",
   "metadata": {},
   "outputs": [],
   "source": []
  },
  {
   "cell_type": "code",
   "execution_count": null,
   "id": "33b11e2f-b36a-4d61-9b3b-417413ea0b02",
   "metadata": {},
   "outputs": [],
   "source": []
  },
  {
   "cell_type": "code",
   "execution_count": null,
   "id": "d317088f-168a-4a55-a362-d9a0e3b4abc8",
   "metadata": {},
   "outputs": [],
   "source": []
  },
  {
   "cell_type": "code",
   "execution_count": null,
   "id": "6c91e566-031c-4ab8-8a78-c16eceb55d61",
   "metadata": {},
   "outputs": [],
   "source": []
  },
  {
   "cell_type": "code",
   "execution_count": null,
   "id": "644dea78-6027-41f1-92bb-0f1b2793c524",
   "metadata": {},
   "outputs": [],
   "source": []
  },
  {
   "cell_type": "code",
   "execution_count": null,
   "id": "f9cf43b2-e507-47cf-af64-30f23e1d9ecc",
   "metadata": {},
   "outputs": [],
   "source": []
  },
  {
   "cell_type": "code",
   "execution_count": null,
   "id": "2432337f-4f9c-4172-bf96-1c9c71f4f0ab",
   "metadata": {},
   "outputs": [],
   "source": []
  },
  {
   "cell_type": "code",
   "execution_count": null,
   "id": "050b5e0f-1c22-4b04-beaf-5145bfe6fe41",
   "metadata": {},
   "outputs": [],
   "source": []
  },
  {
   "cell_type": "code",
   "execution_count": null,
   "id": "e1f47d9d-4f19-4fc5-9aea-5ae295658bdb",
   "metadata": {},
   "outputs": [],
   "source": []
  },
  {
   "cell_type": "code",
   "execution_count": null,
   "id": "f45150c6-0f3f-4882-814c-cf738aba5bc8",
   "metadata": {},
   "outputs": [],
   "source": []
  },
  {
   "cell_type": "code",
   "execution_count": null,
   "id": "ca8a7784-ea29-4b2e-a080-877efbcddd40",
   "metadata": {},
   "outputs": [],
   "source": []
  },
  {
   "cell_type": "code",
   "execution_count": null,
   "id": "dbda9905-5a33-41e1-8821-1628505baa57",
   "metadata": {},
   "outputs": [],
   "source": []
  },
  {
   "cell_type": "code",
   "execution_count": null,
   "id": "4bc74fc8-4536-4d61-9d84-a319ce9b0a2c",
   "metadata": {},
   "outputs": [],
   "source": []
  },
  {
   "cell_type": "code",
   "execution_count": null,
   "id": "a0e2d12a-3a8f-4b77-afee-9e63a5862ecd",
   "metadata": {},
   "outputs": [],
   "source": []
  },
  {
   "cell_type": "code",
   "execution_count": null,
   "id": "02413080-7ab7-4d2f-b2ad-df2d9e7ed3ec",
   "metadata": {},
   "outputs": [],
   "source": []
  },
  {
   "cell_type": "code",
   "execution_count": null,
   "id": "99e5f50f-919e-4aa9-a8e8-37e1d319a149",
   "metadata": {},
   "outputs": [],
   "source": []
  },
  {
   "cell_type": "code",
   "execution_count": null,
   "id": "92673481-0554-45d1-b527-b7021d08ff03",
   "metadata": {},
   "outputs": [],
   "source": []
  },
  {
   "cell_type": "code",
   "execution_count": null,
   "id": "96fde31a-682e-42a9-9134-19ee5e74f72e",
   "metadata": {},
   "outputs": [],
   "source": []
  },
  {
   "cell_type": "code",
   "execution_count": null,
   "id": "5d1c57e2-ebb7-4670-a8f9-f75ad8be5f2e",
   "metadata": {},
   "outputs": [],
   "source": []
  },
  {
   "cell_type": "code",
   "execution_count": null,
   "id": "e215aa86-d3c8-4475-98b9-c0643d691100",
   "metadata": {},
   "outputs": [],
   "source": []
  },
  {
   "cell_type": "code",
   "execution_count": null,
   "id": "102422d7-7e9f-41fd-b289-6d188d820edd",
   "metadata": {},
   "outputs": [],
   "source": []
  },
  {
   "cell_type": "code",
   "execution_count": null,
   "id": "1c0cef1e-5e4e-4c4e-9f66-e396eb95726f",
   "metadata": {},
   "outputs": [],
   "source": []
  },
  {
   "cell_type": "code",
   "execution_count": null,
   "id": "b4862f52-0a20-4600-b407-e9e86980646c",
   "metadata": {},
   "outputs": [],
   "source": []
  },
  {
   "cell_type": "code",
   "execution_count": null,
   "id": "e161ada8-3d7b-4ba6-916c-6bd694321867",
   "metadata": {},
   "outputs": [],
   "source": []
  },
  {
   "cell_type": "code",
   "execution_count": null,
   "id": "be73c1c4-11c1-4dc3-980f-edf434173840",
   "metadata": {},
   "outputs": [],
   "source": []
  },
  {
   "cell_type": "code",
   "execution_count": null,
   "id": "262e1b16-ba7f-40bd-9885-915435057d20",
   "metadata": {},
   "outputs": [],
   "source": []
  },
  {
   "cell_type": "code",
   "execution_count": null,
   "id": "6e3af4a2-c9d5-483d-b169-40a831f6a7ef",
   "metadata": {},
   "outputs": [],
   "source": []
  },
  {
   "cell_type": "code",
   "execution_count": null,
   "id": "61dbf0c8-dda4-4c8a-850e-2693fa432209",
   "metadata": {},
   "outputs": [],
   "source": []
  },
  {
   "cell_type": "code",
   "execution_count": null,
   "id": "36d14abb-59f5-4986-8bcb-79cae5065fe9",
   "metadata": {},
   "outputs": [],
   "source": []
  },
  {
   "cell_type": "code",
   "execution_count": null,
   "id": "ce5fdf83-6e30-4758-980f-9c0863bd52c8",
   "metadata": {},
   "outputs": [],
   "source": []
  },
  {
   "cell_type": "code",
   "execution_count": null,
   "id": "9b957c4c-eb2f-4fc8-8baa-ef0f909d5eaa",
   "metadata": {},
   "outputs": [],
   "source": []
  },
  {
   "cell_type": "code",
   "execution_count": null,
   "id": "2e2b0168-ce9f-4ae6-84c3-430b709105c5",
   "metadata": {},
   "outputs": [],
   "source": []
  },
  {
   "cell_type": "code",
   "execution_count": null,
   "id": "d192c056-02b8-4ade-96fc-1c4c4ef7ffa0",
   "metadata": {},
   "outputs": [],
   "source": []
  },
  {
   "cell_type": "code",
   "execution_count": null,
   "id": "593e55f5-9329-45dd-b1ed-1149e2055f00",
   "metadata": {},
   "outputs": [],
   "source": []
  },
  {
   "cell_type": "code",
   "execution_count": null,
   "id": "9de551f2-7fa6-43e6-81eb-e32130c2db68",
   "metadata": {},
   "outputs": [],
   "source": []
  },
  {
   "cell_type": "code",
   "execution_count": null,
   "id": "931b358b-b19b-4ac8-9670-45be912ca0bb",
   "metadata": {},
   "outputs": [],
   "source": []
  },
  {
   "cell_type": "code",
   "execution_count": null,
   "id": "662d4218-24fe-45c9-b41d-f641b27e1f2d",
   "metadata": {},
   "outputs": [],
   "source": []
  },
  {
   "cell_type": "code",
   "execution_count": null,
   "id": "fec5174c-f9b3-4d7e-bbac-7bf7c4221d41",
   "metadata": {},
   "outputs": [],
   "source": []
  },
  {
   "cell_type": "code",
   "execution_count": null,
   "id": "a949f08e-3fe7-458e-bb92-9b7e3741c5b2",
   "metadata": {},
   "outputs": [],
   "source": []
  },
  {
   "cell_type": "code",
   "execution_count": null,
   "id": "ab16c614-499c-4e67-b253-908940e9e9a9",
   "metadata": {},
   "outputs": [],
   "source": []
  },
  {
   "cell_type": "code",
   "execution_count": null,
   "id": "6fb500ae-d81d-4a6c-b151-5db111cb6af7",
   "metadata": {},
   "outputs": [],
   "source": []
  },
  {
   "cell_type": "code",
   "execution_count": null,
   "id": "15db9494-f877-46bb-b5bc-fdd77f400d07",
   "metadata": {},
   "outputs": [],
   "source": []
  },
  {
   "cell_type": "code",
   "execution_count": null,
   "id": "ac9d3de0-e9be-49d3-aca0-135b7f38cca8",
   "metadata": {},
   "outputs": [],
   "source": []
  },
  {
   "cell_type": "code",
   "execution_count": null,
   "id": "74515f21-5dcf-4846-8255-0eb16e7b73a0",
   "metadata": {},
   "outputs": [],
   "source": []
  },
  {
   "cell_type": "code",
   "execution_count": null,
   "id": "ae5f2491-94ff-4dce-9b00-d9c3d92e513d",
   "metadata": {},
   "outputs": [],
   "source": []
  },
  {
   "cell_type": "code",
   "execution_count": null,
   "id": "98133d15-2836-488f-82ee-0f84928d8ab3",
   "metadata": {},
   "outputs": [],
   "source": []
  },
  {
   "cell_type": "code",
   "execution_count": null,
   "id": "86bed30e-6676-492f-a489-441eb5c40998",
   "metadata": {},
   "outputs": [],
   "source": []
  },
  {
   "cell_type": "code",
   "execution_count": null,
   "id": "ed999a7e-f645-402c-a881-d7925125ffba",
   "metadata": {},
   "outputs": [],
   "source": []
  },
  {
   "cell_type": "code",
   "execution_count": null,
   "id": "11db4af7-20dc-4ec8-84d3-2ea35c6e5431",
   "metadata": {},
   "outputs": [],
   "source": []
  },
  {
   "cell_type": "code",
   "execution_count": null,
   "id": "4a2af62b-c737-48d8-84f0-af7bec62afd0",
   "metadata": {},
   "outputs": [],
   "source": []
  },
  {
   "cell_type": "code",
   "execution_count": null,
   "id": "f913e62b-f7d8-40a5-8d45-8e1d7090f1a3",
   "metadata": {},
   "outputs": [],
   "source": []
  },
  {
   "cell_type": "code",
   "execution_count": null,
   "id": "f848e7af-c7af-4d45-930f-f9317a34c276",
   "metadata": {},
   "outputs": [],
   "source": []
  },
  {
   "cell_type": "code",
   "execution_count": null,
   "id": "9b01190e-fdaa-4ba2-8fba-77589185f37c",
   "metadata": {},
   "outputs": [],
   "source": []
  },
  {
   "cell_type": "code",
   "execution_count": null,
   "id": "dac9f49c-2847-463e-8d36-661c528ea491",
   "metadata": {},
   "outputs": [],
   "source": []
  },
  {
   "cell_type": "code",
   "execution_count": null,
   "id": "0faa94f7-f03d-495b-b169-87e470ac5153",
   "metadata": {},
   "outputs": [],
   "source": []
  },
  {
   "cell_type": "code",
   "execution_count": null,
   "id": "fa7e7723-8b6e-4ea9-bc82-a81793b82c5c",
   "metadata": {},
   "outputs": [],
   "source": []
  },
  {
   "cell_type": "code",
   "execution_count": null,
   "id": "c45ff1a2-3346-4eab-a56a-c184232e8fc0",
   "metadata": {},
   "outputs": [],
   "source": []
  },
  {
   "cell_type": "code",
   "execution_count": null,
   "id": "56ca8dcf-82bf-4dfc-9631-87487a5d18ef",
   "metadata": {},
   "outputs": [],
   "source": []
  },
  {
   "cell_type": "code",
   "execution_count": null,
   "id": "e2d97a30-c8b6-4bab-9257-8f1f6a6af0a1",
   "metadata": {},
   "outputs": [],
   "source": []
  }
 ],
 "metadata": {
  "kernelspec": {
   "display_name": "Python 3 (ipykernel)",
   "language": "python",
   "name": "python3"
  },
  "language_info": {
   "codemirror_mode": {
    "name": "ipython",
    "version": 3
   },
   "file_extension": ".py",
   "mimetype": "text/x-python",
   "name": "python",
   "nbconvert_exporter": "python",
   "pygments_lexer": "ipython3",
   "version": "3.11.4"
  }
 },
 "nbformat": 4,
 "nbformat_minor": 5
}
